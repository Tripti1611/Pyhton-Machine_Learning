{
 "cells": [
  {
   "cell_type": "markdown",
   "id": "a4fa671e",
   "metadata": {},
   "source": [
    "# Spam Mail Detection using SVM"
   ]
  },
  {
   "cell_type": "markdown",
   "id": "0d193a22",
   "metadata": {},
   "source": [
    "Support Vector Machine(SVM) is a supervised machine learning algorithm used for both classification and regression. Though we say regression problems as well its best suited for classification. The objective of SVM algorithm is to find a hyperplane in an N-dimensional space that distinctly classifies the data points. The dimension of the hyperplane depends upon the number of features. \n",
    "\n",
    "Linear SVM is used for linearly separable data, which means if a dataset can be classified into two classes by using a single straight line, then such data is termed as linearly separable data, and classifier is used called as Linear SVM classifier.\n",
    "\n",
    "The mail can be ham or spam mail. As we have two classes here so we can use Linear SVM for predicting spam mails."
   ]
  },
  {
   "cell_type": "code",
   "execution_count": 18,
   "id": "699c9a76",
   "metadata": {},
   "outputs": [],
   "source": [
    "#import required libraries\n",
    "\n",
    "import numpy as np\n",
    "import pandas as pd\n",
    "from sklearn.model_selection import train_test_split\n",
    "from sklearn.feature_extraction.text import TfidfVectorizer\n",
    "from sklearn.svm import LinearSVC\n",
    "from sklearn.metrics import accuracy_score"
   ]
  },
  {
   "cell_type": "markdown",
   "id": "dbc93567",
   "metadata": {},
   "source": [
    "1. Load the Dataset"
   ]
  },
  {
   "cell_type": "code",
   "execution_count": 19,
   "id": "bb1e95b2",
   "metadata": {},
   "outputs": [],
   "source": [
    "#load dataset into pandas DataFrame\n",
    "raw_data = pd.read_csv('spamham.csv',encoding='ISO-8859-1')"
   ]
  },
  {
   "cell_type": "markdown",
   "id": "56afb0d3",
   "metadata": {},
   "source": [
    "2. Pre-process the dataset"
   ]
  },
  {
   "cell_type": "code",
   "execution_count": 20,
   "id": "b0f9e327",
   "metadata": {},
   "outputs": [
    {
     "data": {
      "text/plain": [
       "(5572, 2)"
      ]
     },
     "execution_count": 20,
     "metadata": {},
     "output_type": "execute_result"
    }
   ],
   "source": [
    "#replace null values with null string\n",
    "mail_data = raw_data.where((pd.notnull(raw_data)),'')\n",
    "\n",
    "mail_data.shape"
   ]
  },
  {
   "cell_type": "code",
   "execution_count": 21,
   "id": "995a8933",
   "metadata": {},
   "outputs": [
    {
     "name": "stdout",
     "output_type": "stream",
     "text": [
      "Display upper 10 rows of Dataframe:\n",
      "\n"
     ]
    },
    {
     "data": {
      "text/html": [
       "<div>\n",
       "<style scoped>\n",
       "    .dataframe tbody tr th:only-of-type {\n",
       "        vertical-align: middle;\n",
       "    }\n",
       "\n",
       "    .dataframe tbody tr th {\n",
       "        vertical-align: top;\n",
       "    }\n",
       "\n",
       "    .dataframe thead th {\n",
       "        text-align: right;\n",
       "    }\n",
       "</style>\n",
       "<table border=\"1\" class=\"dataframe\">\n",
       "  <thead>\n",
       "    <tr style=\"text-align: right;\">\n",
       "      <th></th>\n",
       "      <th>Category</th>\n",
       "      <th>Message</th>\n",
       "    </tr>\n",
       "  </thead>\n",
       "  <tbody>\n",
       "    <tr>\n",
       "      <th>0</th>\n",
       "      <td>ham</td>\n",
       "      <td>Go until jurong point, crazy.. Available only ...</td>\n",
       "    </tr>\n",
       "    <tr>\n",
       "      <th>1</th>\n",
       "      <td>ham</td>\n",
       "      <td>Ok lar... Joking wif u oni...</td>\n",
       "    </tr>\n",
       "    <tr>\n",
       "      <th>2</th>\n",
       "      <td>spam</td>\n",
       "      <td>Free entry in 2 a wkly comp to win FA Cup fina...</td>\n",
       "    </tr>\n",
       "    <tr>\n",
       "      <th>3</th>\n",
       "      <td>ham</td>\n",
       "      <td>U dun say so early hor... U c already then say...</td>\n",
       "    </tr>\n",
       "    <tr>\n",
       "      <th>4</th>\n",
       "      <td>ham</td>\n",
       "      <td>Nah I don't think he goes to usf, he lives aro...</td>\n",
       "    </tr>\n",
       "  </tbody>\n",
       "</table>\n",
       "</div>"
      ],
      "text/plain": [
       "  Category                                            Message\n",
       "0      ham  Go until jurong point, crazy.. Available only ...\n",
       "1      ham                      Ok lar... Joking wif u oni...\n",
       "2     spam  Free entry in 2 a wkly comp to win FA Cup fina...\n",
       "3      ham  U dun say so early hor... U c already then say...\n",
       "4      ham  Nah I don't think he goes to usf, he lives aro..."
      ]
     },
     "execution_count": 21,
     "metadata": {},
     "output_type": "execute_result"
    }
   ],
   "source": [
    "print(\"Display upper 10 rows of Dataframe:\\n\")\n",
    "\n",
    "mail_data.head()"
   ]
  },
  {
   "cell_type": "code",
   "execution_count": 23,
   "id": "3a814b01",
   "metadata": {},
   "outputs": [],
   "source": [
    "#replace spam mail as 0 and ham (non-spam) mail as 1\n",
    "mail_data.loc[mail_data['Category'] == 'spam', 'Category', ] = 0\n",
    "mail_data.loc[mail_data['Category'] == 'ham', 'Category', ] = 1"
   ]
  },
  {
   "cell_type": "code",
   "execution_count": 24,
   "id": "704929bd",
   "metadata": {},
   "outputs": [
    {
     "name": "stdout",
     "output_type": "stream",
     "text": [
      "0       Go until jurong point, crazy.. Available only ...\n",
      "1                           Ok lar... Joking wif u oni...\n",
      "2       Free entry in 2 a wkly comp to win FA Cup fina...\n",
      "3       U dun say so early hor... U c already then say...\n",
      "4       Nah I don't think he goes to usf, he lives aro...\n",
      "                              ...                        \n",
      "5567    This is the 2nd time we have tried 2 contact u...\n",
      "5568                Will Ì_ b going to esplanade fr home?\n",
      "5569    Pity, * was in mood for that. So...any other s...\n",
      "5570    The guy did some bitching but I acted like i'd...\n",
      "5571                           Rofl. Its true to its name\n",
      "Name: Message, Length: 5572, dtype: object\n",
      "\n",
      "\n",
      "------------------------------------------------------------------------------\n",
      "\n",
      "\n",
      "0       1\n",
      "1       1\n",
      "2       0\n",
      "3       1\n",
      "4       1\n",
      "       ..\n",
      "5567    0\n",
      "5568    1\n",
      "5569    1\n",
      "5570    1\n",
      "5571    1\n",
      "Name: Category, Length: 5572, dtype: object\n"
     ]
    }
   ],
   "source": [
    "#seperate text/message in X and label in Y\n",
    "X = mail_data['Message']\n",
    "Y = mail_data['Category']\n",
    "\n",
    "print(X)\n",
    "print('\\n\\n------------------------------------------------------------------------------\\n\\n')\n",
    "print(Y)"
   ]
  },
  {
   "cell_type": "markdown",
   "id": "06bd1605",
   "metadata": {},
   "source": [
    "3. Splitting the dataset into train and test data"
   ]
  },
  {
   "cell_type": "code",
   "execution_count": 25,
   "id": "87aaefbf",
   "metadata": {},
   "outputs": [],
   "source": [
    "X_train, X_test, Y_train, Y_test = train_test_split(X, Y, test_size = 0.2, random_state = 2)"
   ]
  },
  {
   "cell_type": "markdown",
   "id": "67a33392",
   "metadata": {},
   "source": [
    "4. Extracting features"
   ]
  },
  {
   "cell_type": "code",
   "execution_count": 26,
   "id": "800a2045",
   "metadata": {},
   "outputs": [],
   "source": [
    "#transform text data into feature vectors to traint the SVM model using TfidfVectorizer\n",
    "feature_extraction = TfidfVectorizer(min_df=1, stop_words='english', lowercase=True)\n",
    "X_train_features = feature_extraction.fit_transform(X_train)\n",
    "X_test_features = feature_extraction.transform(X_test)\n",
    "\n",
    "#convert Y_train and Y_test into integer\n",
    "Y_train = Y_train.astype('int')\n",
    "Y_test = Y_test.astype('int')"
   ]
  },
  {
   "cell_type": "markdown",
   "id": "f056ccab",
   "metadata": {},
   "source": [
    "5. Build and train the model using SVM"
   ]
  },
  {
   "cell_type": "code",
   "execution_count": 27,
   "id": "ce6d88ea",
   "metadata": {},
   "outputs": [
    {
     "data": {
      "text/plain": [
       "LinearSVC()"
      ]
     },
     "execution_count": 27,
     "metadata": {},
     "output_type": "execute_result"
    }
   ],
   "source": [
    "model = LinearSVC() #creating the model\n",
    "model.fit(X_train_features, Y_train) #training the model on train data"
   ]
  },
  {
   "cell_type": "markdown",
   "id": "6a72917a",
   "metadata": {},
   "source": [
    "6. Evaluate the model"
   ]
  },
  {
   "cell_type": "code",
   "execution_count": 28,
   "id": "3b78a400",
   "metadata": {},
   "outputs": [
    {
     "name": "stdout",
     "output_type": "stream",
     "text": [
      "Accuracy on training data:  0.9997756338344178\n"
     ]
    }
   ],
   "source": [
    "#checking accuracy by predicting training data\n",
    "\n",
    "prediction_on_training_data = model.predict(X_train_features)\n",
    "accuracy_on_training_data = accuracy_score(Y_train, prediction_on_training_data)\n",
    "print(\"Accuracy on training data: \",accuracy_on_training_data)"
   ]
  },
  {
   "cell_type": "code",
   "execution_count": 29,
   "id": "32c66173",
   "metadata": {},
   "outputs": [
    {
     "name": "stdout",
     "output_type": "stream",
     "text": [
      "Accuracy on test data:  0.9775784753363229\n"
     ]
    }
   ],
   "source": [
    "#checking accuracy on test data\n",
    "prediction_on_test_data = model.predict(X_test_features)\n",
    "accuracy_on_test_data = accuracy_score(Y_test, prediction_on_test_data)\n",
    "print(\"Accuracy on test data: \",accuracy_on_test_data)"
   ]
  },
  {
   "cell_type": "markdown",
   "id": "609e2c52",
   "metadata": {},
   "source": [
    "7. Detecting whether mail is spam or ham"
   ]
  },
  {
   "cell_type": "code",
   "execution_count": 34,
   "id": "12534370",
   "metadata": {},
   "outputs": [
    {
     "name": "stdout",
     "output_type": "stream",
     "text": [
      "SPAM MAIL!!\n"
     ]
    }
   ],
   "source": [
    "input_mail = ['SIX chances to win CASH! From 100 to 20,000 pounds txt> CSH11 and send to 87575. Cost 150p/day, 6days, 16+ TsandCs apply Reply HL 4 info']\n",
    "#convert text to feature vector \n",
    "input_mail_features = feature_extraction.transform(input_mail)\n",
    "\n",
    "#predicting\n",
    "prediction = model.predict(input_mail_features)\n",
    "    #returns list with one element [0] if mail is spam; else returns list with one element [1] if mail is ham.\n",
    "    \n",
    "if prediction[0] == 0:\n",
    "    print(\"SPAM MAIL!!\")\n",
    "else:\n",
    "    print(\"HAM MAIL!!\")"
   ]
  },
  {
   "cell_type": "markdown",
   "id": "ffbe36ff",
   "metadata": {},
   "source": [
    "Our Model is ready!!"
   ]
  },
  {
   "cell_type": "markdown",
   "id": "85da13e4",
   "metadata": {},
   "source": [
    "# Solving same problem using KNN"
   ]
  },
  {
   "cell_type": "code",
   "execution_count": 42,
   "id": "1e0699c6",
   "metadata": {},
   "outputs": [
    {
     "data": {
      "text/plain": [
       "KNeighborsClassifier()"
      ]
     },
     "execution_count": 42,
     "metadata": {},
     "output_type": "execute_result"
    }
   ],
   "source": [
    "#importing KNN\n",
    "from sklearn.neighbors import KNeighborsClassifier\n",
    "\n",
    "KNN = KNeighborsClassifier()\n",
    "KNN.fit(X_train_features, Y_train)"
   ]
  },
  {
   "cell_type": "code",
   "execution_count": 43,
   "id": "4da551ab",
   "metadata": {},
   "outputs": [
    {
     "name": "stdout",
     "output_type": "stream",
     "text": [
      "KNN accuracy:  0.9013452914798207\n"
     ]
    }
   ],
   "source": [
    "#checking accuracy\n",
    "prediction_on_data = KNN.predict(X_test_features)\n",
    "accuracy = accuracy_score(Y_test, prediction_on_data)\n",
    "print(\"KNN accuracy: \", accuracy)"
   ]
  },
  {
   "cell_type": "code",
   "execution_count": 44,
   "id": "d05fa75f",
   "metadata": {},
   "outputs": [
    {
     "name": "stdout",
     "output_type": "stream",
     "text": [
      "HAM MAIL!!\n"
     ]
    }
   ],
   "source": [
    "input_mail = ['SIX chances to win CASH! From 100 to 20,000 pounds txt> CSH11 and send to 87575. Cost 150p/day, 6days, 16+ TsandCs apply Reply HL 4 info']\n",
    "#convert text to feature vector \n",
    "input_mail_features = feature_extraction.transform(input_mail)\n",
    "\n",
    "#predicting\n",
    "prediction = KNN.predict(input_mail_features)\n",
    "    #returns list with one element [0] if mail is spam; else returns list with one element [1] if mail is ham.\n",
    "    \n",
    "if prediction[0] == 0:\n",
    "    print(\"SPAM MAIL!!\")\n",
    "else:\n",
    "    print(\"HAM MAIL!!\")"
   ]
  },
  {
   "cell_type": "markdown",
   "id": "bee3eb0e",
   "metadata": {},
   "source": [
    "We got incorrect answer!! Also the accuracy using KNN is just 0.9013452914798207 whereas with SVM is 0.9775784753363229.\n",
    "\n",
    "So, for this situation SVM is more preferable."
   ]
  }
 ],
 "metadata": {
  "kernelspec": {
   "display_name": "Python 3",
   "language": "python",
   "name": "python3"
  },
  "language_info": {
   "codemirror_mode": {
    "name": "ipython",
    "version": 3
   },
   "file_extension": ".py",
   "mimetype": "text/x-python",
   "name": "python",
   "nbconvert_exporter": "python",
   "pygments_lexer": "ipython3",
   "version": "3.9.1"
  }
 },
 "nbformat": 4,
 "nbformat_minor": 5
}
