{
 "cells": [
  {
   "cell_type": "markdown",
   "id": "b83b5f0e",
   "metadata": {},
   "source": [
    "# Classification using Decision Tree"
   ]
  },
  {
   "cell_type": "markdown",
   "id": "f4f1d716",
   "metadata": {},
   "source": [
    "#Training model using Decision Tree"
   ]
  },
  {
   "cell_type": "code",
   "execution_count": 21,
   "id": "7a571399",
   "metadata": {},
   "outputs": [
    {
     "data": {
      "text/plain": [
       "[0, 0, 2]"
      ]
     },
     "execution_count": 21,
     "metadata": {},
     "output_type": "execute_result"
    }
   ],
   "source": [
    "from sklearn import tree\n",
    "\n",
    "x1 = [[-3,-2],[-1,-1],[0,1],[4,4],[5,3]]\n",
    "y1 = [0,0,1,1,2]\n",
    "decTree = tree.DecisionTreeClassifier().fit(x1,y1)\n",
    "x_test = [[-2,-2],[-1.7,0.9],[6,6]]\n",
    "y_pred = list(decTree.predict(x_test))\n",
    "y_pred"
   ]
  },
  {
   "cell_type": "markdown",
   "id": "6b61cb4f",
   "metadata": {},
   "source": [
    "#Testing accuracy of model"
   ]
  },
  {
   "cell_type": "code",
   "execution_count": 22,
   "id": "94087c7e",
   "metadata": {},
   "outputs": [
    {
     "data": {
      "text/plain": [
       "0.6666666666666666"
      ]
     },
     "execution_count": 22,
     "metadata": {},
     "output_type": "execute_result"
    }
   ],
   "source": [
    "from sklearn.metrics import accuracy_score\n",
    "\n",
    "y_actual = [0,1,2]\n",
    "\n",
    "accuracy_score(y_actual,y_pred)"
   ]
  }
 ],
 "metadata": {
  "kernelspec": {
   "display_name": "Python 3",
   "language": "python",
   "name": "python3"
  },
  "language_info": {
   "codemirror_mode": {
    "name": "ipython",
    "version": 3
   },
   "file_extension": ".py",
   "mimetype": "text/x-python",
   "name": "python",
   "nbconvert_exporter": "python",
   "pygments_lexer": "ipython3",
   "version": "3.9.1"
  }
 },
 "nbformat": 4,
 "nbformat_minor": 5
}
