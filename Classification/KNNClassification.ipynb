{
 "cells": [
  {
   "cell_type": "markdown",
   "id": "53f56f1e",
   "metadata": {},
   "source": [
    "# KNN Classification"
   ]
  },
  {
   "cell_type": "markdown",
   "id": "cc9e66a2",
   "metadata": {},
   "source": [
    "Training KNN Model"
   ]
  },
  {
   "cell_type": "code",
   "execution_count": 4,
   "id": "61c5e097",
   "metadata": {},
   "outputs": [
    {
     "data": {
      "text/plain": [
       "array([0, 1, 1, 0])"
      ]
     },
     "execution_count": 4,
     "metadata": {},
     "output_type": "execute_result"
    }
   ],
   "source": [
    "x1 = [[-1],[0],[2],[6],[7],[10]]\n",
    "y1 = [0,0,0,1,1,1]\n",
    "\n",
    "from sklearn.neighbors import KNeighborsClassifier\n",
    "kneigh = KNeighborsClassifier(n_neighbors=4)\n",
    "kneigh.fit(x1,y1)\n",
    "x_test = [[-5],[11],[8],[4]]\n",
    "y_pred = kneigh.predict(x_test)\n",
    "y_pred"
   ]
  },
  {
   "cell_type": "markdown",
   "id": "f346bc71",
   "metadata": {},
   "source": [
    "Plotting the data"
   ]
  },
  {
   "cell_type": "code",
   "execution_count": 5,
   "id": "81737e5b",
   "metadata": {},
   "outputs": [
    {
     "data": {
      "image/png": "[encoded data removed]",
      "text/plain": [
       "<Figure size 432x288 with 1 Axes>"
      ]
     },
     "metadata": {
      "needs_background": "light"
     },
     "output_type": "display_data"
    }
   ],
   "source": [
    "import matplotlib.pyplot as plt\n",
    "\n",
    "plt.scatter(x1,y1,color=\"purple\",marker=\"*\",label=\"training data\")\n",
    "plt.scatter(x_test,y_pred,color=\"green\",label=\"predicted data\")\n",
    "plt.legend(loc=2)\n",
    "plt.show()"
   ]
  },
  {
   "cell_type": "markdown",
   "id": "e2569cfe",
   "metadata": {},
   "source": [
    "Testing accuracy of the model"
   ]
  },
  {
   "cell_type": "code",
   "execution_count": 6,
   "id": "2e5bb734",
   "metadata": {},
   "outputs": [
    {
     "data": {
      "text/plain": [
       "0.75"
      ]
     },
     "execution_count": 6,
     "metadata": {},
     "output_type": "execute_result"
    }
   ],
   "source": [
    "from sklearn.metrics import accuracy_score\n",
    "\n",
    "y_actual = [0,1,1,1]\n",
    "accuracy_score(y_actual,y_pred)"
   ]
  }
 ],
 "metadata": {
  "kernelspec": {
   "display_name": "Python 3",
   "language": "python",
   "name": "python3"
  },
  "language_info": {
   "codemirror_mode": {
    "name": "ipython",
    "version": 3
   },
   "file_extension": ".py",
   "mimetype": "text/x-python",
   "name": "python",
   "nbconvert_exporter": "python",
   "pygments_lexer": "ipython3",
   "version": "3.9.1"
  }
 },
 "nbformat": 4,
 "nbformat_minor": 5
}
