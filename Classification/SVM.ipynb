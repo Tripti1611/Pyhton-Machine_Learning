{
 "cells": [
  {
   "cell_type": "markdown",
   "id": "ff8df1eb",
   "metadata": {},
   "source": [
    "# Classification using Support Vector Machine(SVM)"
   ]
  },
  {
   "cell_type": "markdown",
   "id": "751e7f42",
   "metadata": {},
   "source": [
    "Traing model using SVM"
   ]
  },
  {
   "cell_type": "code",
   "execution_count": 19,
   "id": "782e16a1",
   "metadata": {},
   "outputs": [
    {
     "data": {
      "text/plain": [
       "array([1, 2, 1, 2])"
      ]
     },
     "execution_count": 19,
     "metadata": {},
     "output_type": "execute_result"
    }
   ],
   "source": [
    "import numpy as np\n",
    "\n",
    "x_train = np.array([[-3,-1],[-2.5,4],[1,-4],[2,2],[5,3]])\n",
    "y_train = np.array([1,1,0,2,2])\n",
    "\n",
    "from sklearn.svm import SVC\n",
    "svmclf = SVC().fit(x_train,y_train)\n",
    "\n",
    "x_test = np.array([[-1,-1],[4,-2],[-1,0],[1,1]])\n",
    "y_pred = np.array(svmclf.predict(x_test))\n",
    "y_pred"
   ]
  },
  {
   "cell_type": "markdown",
   "id": "f81342be",
   "metadata": {},
   "source": [
    "Testing accuracy of model"
   ]
  },
  {
   "cell_type": "code",
   "execution_count": 21,
   "id": "4f69fb03",
   "metadata": {},
   "outputs": [
    {
     "data": {
      "text/plain": [
       "0.75"
      ]
     },
     "execution_count": 21,
     "metadata": {},
     "output_type": "execute_result"
    }
   ],
   "source": [
    "from sklearn.metrics import accuracy_score\n",
    "\n",
    "y_actual = np.array([1,0,1,2])\n",
    "accuracy_score(y_actual,y_pred)"
   ]
  }
 ],
 "metadata": {
  "kernelspec": {
   "display_name": "Python 3",
   "language": "python",
   "name": "python3"
  },
  "language_info": {
   "codemirror_mode": {
    "name": "ipython",
    "version": 3
   },
   "file_extension": ".py",
   "mimetype": "text/x-python",
   "name": "python",
   "nbconvert_exporter": "python",
   "pygments_lexer": "ipython3",
   "version": "3.9.1"
  }
 },
 "nbformat": 4,
 "nbformat_minor": 5
}
