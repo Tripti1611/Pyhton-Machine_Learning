{
 "cells": [
  {
   "cell_type": "markdown",
   "id": "92328a7f",
   "metadata": {},
   "source": [
    "# Clustering using KMeans"
   ]
  },
  {
   "cell_type": "markdown",
   "id": "860bca36",
   "metadata": {},
   "source": [
    "Importing necessary libraries and training the model"
   ]
  },
  {
   "cell_type": "code",
   "execution_count": 45,
   "id": "c5711478",
   "metadata": {},
   "outputs": [
    {
     "data": {
      "text/plain": [
       "KMeans(n_clusters=2, random_state=0)"
      ]
     },
     "execution_count": 45,
     "metadata": {},
     "output_type": "execute_result"
    }
   ],
   "source": [
    "from sklearn.cluster import KMeans\n",
    "import numpy as np\n",
    "\n",
    "x = np.array([[1,2],[1,4],[1,0],[10,3],[10,5],[10,1]])\n",
    "kmean = KMeans(n_clusters=2,random_state=0)\n",
    "kmean.fit(x)\n"
   ]
  },
  {
   "cell_type": "code",
   "execution_count": 46,
   "id": "8da7d50a",
   "metadata": {},
   "outputs": [
    {
     "name": "stdout",
     "output_type": "stream",
     "text": [
      "Labels assigned by KMeans:  [1 1 1 0 0 0]\n"
     ]
    }
   ],
   "source": [
    "print(\"Labels assigned by KMeans: \",kmean.labels_)"
   ]
  },
  {
   "cell_type": "markdown",
   "id": "7308abf2",
   "metadata": {},
   "source": [
    "Predicting using the trained model"
   ]
  },
  {
   "cell_type": "code",
   "execution_count": 47,
   "id": "d522862f",
   "metadata": {},
   "outputs": [
    {
     "data": {
      "text/plain": [
       "array([1, 0])"
      ]
     },
     "execution_count": 47,
     "metadata": {},
     "output_type": "execute_result"
    }
   ],
   "source": [
    "kmean.predict([[0,0],[12,3]])\n"
   ]
  },
  {
   "cell_type": "code",
   "execution_count": 48,
   "id": "725da9a0",
   "metadata": {},
   "outputs": [
    {
     "name": "stdout",
     "output_type": "stream",
     "text": [
      "Centroids of Clusters assigned by KMeans: \n",
      " [[10.  3.]\n",
      " [ 1.  2.]]\n"
     ]
    }
   ],
   "source": [
    "print(\"Centroids of Clusters assigned by KMeans: \\n\",kmean.cluster_centers_)"
   ]
  }
 ],
 "metadata": {
  "kernelspec": {
   "display_name": "Python 3",
   "language": "python",
   "name": "python3"
  },
  "language_info": {
   "codemirror_mode": {
    "name": "ipython",
    "version": 3
   },
   "file_extension": ".py",
   "mimetype": "text/x-python",
   "name": "python",
   "nbconvert_exporter": "python",
   "pygments_lexer": "ipython3",
   "version": "3.9.1"
  }
 },
 "nbformat": 4,
 "nbformat_minor": 5
}
